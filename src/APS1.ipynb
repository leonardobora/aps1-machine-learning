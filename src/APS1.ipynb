{
 "cells": [
  {
   "metadata": {},
   "cell_type": "markdown",
   "source": "### 1. Compreensão Inicial dos Dados\n",
   "id": "8a77807f92f26ee"
  },
  {
   "metadata": {},
   "cell_type": "markdown",
   "source": "#### Passo 1: Carregar os Dados\n",
   "id": "4244ec84c1ef6983"
  },
  {
   "metadata": {
    "ExecuteTime": {
     "end_time": "2025-04-01T22:19:44.288985Z",
     "start_time": "2025-04-01T22:19:43.289735Z"
    }
   },
   "cell_type": "code",
   "source": [
    "import pandas as pd\n",
    "\n",
    "# Substitua 'caminho_do_arquivo.csv' pelo nome do seu arquivo\n",
    "data = pd.read_csv('../data/br_seeg_emissoes_brasil.csv')\n",
    "\n",
    "# Verificar as primeiras linhas do dataset\n",
    "print(data.head())\n"
   ],
   "id": "fbc121e30a2defb3",
   "outputs": [
    {
     "name": "stdout",
     "output_type": "stream",
     "text": [
      "    ano       nivel_1           nivel_2  nivel_3 nivel_4  nivel_5 nivel_6  \\\n",
      "0  1970  Agropecuária  Cultivo do Arroz  Diretas  Outros  Vegetal   Arroz   \n",
      "1  1971  Agropecuária  Cultivo do Arroz  Diretas  Outros  Vegetal   Arroz   \n",
      "2  1972  Agropecuária  Cultivo do Arroz  Diretas  Outros  Vegetal   Arroz   \n",
      "3  1973  Agropecuária  Cultivo do Arroz  Diretas  Outros  Vegetal   Arroz   \n",
      "4  1974  Agropecuária  Cultivo do Arroz  Diretas  Outros  Vegetal   Arroz   \n",
      "\n",
      "  tipo_emissao      gas atividade_economica produto    emissao  \n",
      "0      Emissão  CH4 (t)                 NaN     NaN  230462.17  \n",
      "1      Emissão  CH4 (t)                 NaN     NaN  226016.30  \n",
      "2      Emissão  CH4 (t)                 NaN     NaN  220101.20  \n",
      "3      Emissão  CH4 (t)                 NaN     NaN  214195.56  \n",
      "4      Emissão  CH4 (t)                 NaN     NaN  186862.84  \n"
     ]
    }
   ],
   "execution_count": 1
  },
  {
   "metadata": {},
   "cell_type": "markdown",
   "source": [
    "#### Passo 2: Examinar a Estrutura dos Dados\n",
    "Analise a estrutura básica:\n",
    "\n",
    "Dimensões do dataset: data.shape\n",
    "\n",
    "Tipos de variáveis: data.info()\n",
    "\n",
    "Estatísticas descritivas: data.describe()\n"
   ],
   "id": "9e9b8e32b14f3675"
  },
  {
   "metadata": {
    "ExecuteTime": {
     "end_time": "2025-04-01T02:45:22.180566Z",
     "start_time": "2025-04-01T02:45:21.946469Z"
    }
   },
   "cell_type": "code",
   "source": [
    "print(data.shape)\n",
    "print(data.info())\n",
    "print(data.describe())"
   ],
   "id": "1e1686d3ebb7b1d6",
   "outputs": [
    {
     "name": "stdout",
     "output_type": "stream",
     "text": [
      "(454850, 12)\n",
      "<class 'pandas.core.frame.DataFrame'>\n",
      "RangeIndex: 454850 entries, 0 to 454849\n",
      "Data columns (total 12 columns):\n",
      " #   Column               Non-Null Count   Dtype  \n",
      "---  ------               --------------   -----  \n",
      " 0   ano                  454850 non-null  int64  \n",
      " 1   nivel_1              454850 non-null  object \n",
      " 2   nivel_2              454850 non-null  object \n",
      " 3   nivel_3              454850 non-null  object \n",
      " 4   nivel_4              454850 non-null  object \n",
      " 5   nivel_5              454850 non-null  object \n",
      " 6   nivel_6              454850 non-null  object \n",
      " 7   tipo_emissao         454850 non-null  object \n",
      " 8   gas                  454850 non-null  object \n",
      " 9   atividade_economica  453100 non-null  object \n",
      " 10  produto              268100 non-null  object \n",
      " 11  emissao              406325 non-null  float64\n",
      "dtypes: float64(1), int64(1), object(10)\n",
      "memory usage: 41.6+ MB\n",
      "None\n",
      "                 ano       emissao\n",
      "count  454850.000000  4.063250e+05\n",
      "mean     1994.500000  1.437622e+06\n",
      "std        14.430886  3.124689e+07\n",
      "min      1970.000000 -3.107000e+08\n",
      "25%      1982.000000  0.000000e+00\n",
      "50%      1994.500000  4.689636e+00\n",
      "75%      2007.000000  4.525840e+04\n",
      "max      2019.000000  2.083000e+09\n"
     ]
    }
   ],
   "execution_count": 3
  },
  {
   "metadata": {},
   "cell_type": "markdown",
   "source": "### 2. Análise Exploratória (EDA)\n",
   "id": "43cf62a9ba0992d5"
  },
  {
   "metadata": {},
   "cell_type": "markdown",
   "source": [
    "#### Passo 3: Identificar Tipos de Variáveis\n",
    "Verifique quais variáveis são numéricas, categóricas ou booleanas.\n",
    "\n",
    "Crie listas separadas para cada tipo de variável:"
   ],
   "id": "afd0e66aa6490690"
  },
  {
   "metadata": {
    "ExecuteTime": {
     "end_time": "2025-04-01T02:45:30.122995Z",
     "start_time": "2025-04-01T02:45:30.067924Z"
    }
   },
   "cell_type": "code",
   "source": [
    "numerical_features = data.select_dtypes(include=['float64', 'int64']).columns\n",
    "categorical_features = data.select_dtypes(include=['object']).columns\n",
    "\n",
    "print(\"Variáveis Numéricas:\", numerical_features)\n",
    "print(\"Variáveis Categóricas:\", categorical_features)\n"
   ],
   "id": "2815463fa4f2e246",
   "outputs": [
    {
     "name": "stdout",
     "output_type": "stream",
     "text": [
      "Variáveis Numéricas: Index(['ano', 'emissao'], dtype='object')\n",
      "Variáveis Categóricas: Index(['nivel_1', 'nivel_2', 'nivel_3', 'nivel_4', 'nivel_5', 'nivel_6',\n",
      "       'tipo_emissao', 'gas', 'atividade_economica', 'produto'],\n",
      "      dtype='object')\n"
     ]
    }
   ],
   "execution_count": 4
  },
  {
   "metadata": {},
   "cell_type": "markdown",
   "source": [
    "#### Passo 4: Visualizar Distribuições\n",
    "Use histogramas e boxplots para analisar a distribuição das variáveis numéricas:\n",
    "\n",
    "\n"
   ],
   "id": "f8bcb937663562bd"
  },
  {
   "metadata": {
    "jupyter": {
     "is_executing": true
    },
    "ExecuteTime": {
     "start_time": "2025-04-01T02:46:11.268175Z"
    }
   },
   "cell_type": "code",
   "source": [
    "import matplotlib.pyplot as plt\n",
    "import seaborn as sns\n",
    "\n",
    "# Exemplo: Histograma para uma variável numérica\n",
    "sns.histplot(data['emissao'], kde=True)\n",
    "plt.title('Distribuição da Variável')\n",
    "plt.show()\n",
    "\n",
    "# Exemplo: Boxplot para detectar outliers\n",
    "sns.boxplot(x=data['gas'])\n",
    "plt.title('Boxplot da Variável')\n",
    "plt.show()\n"
   ],
   "id": "b3f2a915846ed26b",
   "outputs": [
    {
     "ename": "KeyboardInterrupt",
     "evalue": "",
     "output_type": "error",
     "traceback": [
      "\u001B[31m---------------------------------------------------------------------------\u001B[39m",
      "\u001B[31mKeyboardInterrupt\u001B[39m                         Traceback (most recent call last)",
      "\u001B[36mCell\u001B[39m\u001B[36m \u001B[39m\u001B[32mIn[6]\u001B[39m\u001B[32m, line 5\u001B[39m\n\u001B[32m      2\u001B[39m \u001B[38;5;28;01mimport\u001B[39;00m\u001B[38;5;250m \u001B[39m\u001B[34;01mseaborn\u001B[39;00m\u001B[38;5;250m \u001B[39m\u001B[38;5;28;01mas\u001B[39;00m\u001B[38;5;250m \u001B[39m\u001B[34;01msns\u001B[39;00m\n\u001B[32m      4\u001B[39m \u001B[38;5;66;03m# Exemplo: Histograma para uma variável numérica\u001B[39;00m\n\u001B[32m----> \u001B[39m\u001B[32m5\u001B[39m \u001B[43msns\u001B[49m\u001B[43m.\u001B[49m\u001B[43mhistplot\u001B[49m\u001B[43m(\u001B[49m\u001B[43mdata\u001B[49m\u001B[43m[\u001B[49m\u001B[33;43m'\u001B[39;49m\u001B[33;43memissao\u001B[39;49m\u001B[33;43m'\u001B[39;49m\u001B[43m]\u001B[49m\u001B[43m,\u001B[49m\u001B[43m \u001B[49m\u001B[43mkde\u001B[49m\u001B[43m=\u001B[49m\u001B[38;5;28;43;01mTrue\u001B[39;49;00m\u001B[43m)\u001B[49m\n\u001B[32m      6\u001B[39m plt.title(\u001B[33m'\u001B[39m\u001B[33mDistribuição da Variável\u001B[39m\u001B[33m'\u001B[39m)\n\u001B[32m      7\u001B[39m plt.show()\n",
      "\u001B[36mFile \u001B[39m\u001B[32m~\\PyCharmMiscProject\\.venv\\Lib\\site-packages\\seaborn\\distributions.py:1416\u001B[39m, in \u001B[36mhistplot\u001B[39m\u001B[34m(data, x, y, hue, weights, stat, bins, binwidth, binrange, discrete, cumulative, common_bins, common_norm, multiple, element, fill, shrink, kde, kde_kws, line_kws, thresh, pthresh, pmax, cbar, cbar_ax, cbar_kws, palette, hue_order, hue_norm, color, log_scale, legend, ax, **kwargs)\u001B[39m\n\u001B[32m   1405\u001B[39m estimate_kws = \u001B[38;5;28mdict\u001B[39m(\n\u001B[32m   1406\u001B[39m     stat=stat,\n\u001B[32m   1407\u001B[39m     bins=bins,\n\u001B[32m   (...)\u001B[39m\u001B[32m   1411\u001B[39m     cumulative=cumulative,\n\u001B[32m   1412\u001B[39m )\n\u001B[32m   1414\u001B[39m \u001B[38;5;28;01mif\u001B[39;00m p.univariate:\n\u001B[32m-> \u001B[39m\u001B[32m1416\u001B[39m     \u001B[43mp\u001B[49m\u001B[43m.\u001B[49m\u001B[43mplot_univariate_histogram\u001B[49m\u001B[43m(\u001B[49m\n\u001B[32m   1417\u001B[39m \u001B[43m        \u001B[49m\u001B[43mmultiple\u001B[49m\u001B[43m=\u001B[49m\u001B[43mmultiple\u001B[49m\u001B[43m,\u001B[49m\n\u001B[32m   1418\u001B[39m \u001B[43m        \u001B[49m\u001B[43melement\u001B[49m\u001B[43m=\u001B[49m\u001B[43melement\u001B[49m\u001B[43m,\u001B[49m\n\u001B[32m   1419\u001B[39m \u001B[43m        \u001B[49m\u001B[43mfill\u001B[49m\u001B[43m=\u001B[49m\u001B[43mfill\u001B[49m\u001B[43m,\u001B[49m\n\u001B[32m   1420\u001B[39m \u001B[43m        \u001B[49m\u001B[43mshrink\u001B[49m\u001B[43m=\u001B[49m\u001B[43mshrink\u001B[49m\u001B[43m,\u001B[49m\n\u001B[32m   1421\u001B[39m \u001B[43m        \u001B[49m\u001B[43mcommon_norm\u001B[49m\u001B[43m=\u001B[49m\u001B[43mcommon_norm\u001B[49m\u001B[43m,\u001B[49m\n\u001B[32m   1422\u001B[39m \u001B[43m        \u001B[49m\u001B[43mcommon_bins\u001B[49m\u001B[43m=\u001B[49m\u001B[43mcommon_bins\u001B[49m\u001B[43m,\u001B[49m\n\u001B[32m   1423\u001B[39m \u001B[43m        \u001B[49m\u001B[43mkde\u001B[49m\u001B[43m=\u001B[49m\u001B[43mkde\u001B[49m\u001B[43m,\u001B[49m\n\u001B[32m   1424\u001B[39m \u001B[43m        \u001B[49m\u001B[43mkde_kws\u001B[49m\u001B[43m=\u001B[49m\u001B[43mkde_kws\u001B[49m\u001B[43m,\u001B[49m\n\u001B[32m   1425\u001B[39m \u001B[43m        \u001B[49m\u001B[43mcolor\u001B[49m\u001B[43m=\u001B[49m\u001B[43mcolor\u001B[49m\u001B[43m,\u001B[49m\n\u001B[32m   1426\u001B[39m \u001B[43m        \u001B[49m\u001B[43mlegend\u001B[49m\u001B[43m=\u001B[49m\u001B[43mlegend\u001B[49m\u001B[43m,\u001B[49m\n\u001B[32m   1427\u001B[39m \u001B[43m        \u001B[49m\u001B[43mestimate_kws\u001B[49m\u001B[43m=\u001B[49m\u001B[43mestimate_kws\u001B[49m\u001B[43m,\u001B[49m\n\u001B[32m   1428\u001B[39m \u001B[43m        \u001B[49m\u001B[43mline_kws\u001B[49m\u001B[43m=\u001B[49m\u001B[43mline_kws\u001B[49m\u001B[43m,\u001B[49m\n\u001B[32m   1429\u001B[39m \u001B[43m        \u001B[49m\u001B[43m*\u001B[49m\u001B[43m*\u001B[49m\u001B[43mkwargs\u001B[49m\u001B[43m,\u001B[49m\n\u001B[32m   1430\u001B[39m \u001B[43m    \u001B[49m\u001B[43m)\u001B[49m\n\u001B[32m   1432\u001B[39m \u001B[38;5;28;01melse\u001B[39;00m:\n\u001B[32m   1434\u001B[39m     p.plot_bivariate_histogram(\n\u001B[32m   1435\u001B[39m         common_bins=common_bins,\n\u001B[32m   1436\u001B[39m         common_norm=common_norm,\n\u001B[32m   (...)\u001B[39m\u001B[32m   1446\u001B[39m         **kwargs,\n\u001B[32m   1447\u001B[39m     )\n",
      "\u001B[36mFile \u001B[39m\u001B[32m~\\PyCharmMiscProject\\.venv\\Lib\\site-packages\\seaborn\\distributions.py:571\u001B[39m, in \u001B[36m_DistributionPlotter.plot_univariate_histogram\u001B[39m\u001B[34m(self, multiple, element, fill, common_norm, common_bins, shrink, kde, kde_kws, color, legend, line_kws, estimate_kws, **plot_kws)\u001B[39m\n\u001B[32m    566\u001B[39m \u001B[38;5;28;01mif\u001B[39;00m element == \u001B[33m\"\u001B[39m\u001B[33mbars\u001B[39m\u001B[33m\"\u001B[39m:\n\u001B[32m    567\u001B[39m \n\u001B[32m    568\u001B[39m     \u001B[38;5;66;03m# Use matplotlib bar plotting\u001B[39;00m\n\u001B[32m    570\u001B[39m     plot_func = ax.bar \u001B[38;5;28;01mif\u001B[39;00m \u001B[38;5;28mself\u001B[39m.data_variable == \u001B[33m\"\u001B[39m\u001B[33mx\u001B[39m\u001B[33m\"\u001B[39m \u001B[38;5;28;01melse\u001B[39;00m ax.barh\n\u001B[32m--> \u001B[39m\u001B[32m571\u001B[39m     artists = \u001B[43mplot_func\u001B[49m\u001B[43m(\u001B[49m\n\u001B[32m    572\u001B[39m \u001B[43m        \u001B[49m\u001B[43mhist\u001B[49m\u001B[43m[\u001B[49m\u001B[33;43m\"\u001B[39;49m\u001B[33;43medges\u001B[39;49m\u001B[33;43m\"\u001B[39;49m\u001B[43m]\u001B[49m\u001B[43m,\u001B[49m\n\u001B[32m    573\u001B[39m \u001B[43m        \u001B[49m\u001B[43mhist\u001B[49m\u001B[43m[\u001B[49m\u001B[33;43m\"\u001B[39;49m\u001B[33;43mheights\u001B[39;49m\u001B[33;43m\"\u001B[39;49m\u001B[43m]\u001B[49m\u001B[43m \u001B[49m\u001B[43m-\u001B[49m\u001B[43m \u001B[49m\u001B[43mbottom\u001B[49m\u001B[43m,\u001B[49m\n\u001B[32m    574\u001B[39m \u001B[43m        \u001B[49m\u001B[43mhist\u001B[49m\u001B[43m[\u001B[49m\u001B[33;43m\"\u001B[39;49m\u001B[33;43mwidths\u001B[39;49m\u001B[33;43m\"\u001B[39;49m\u001B[43m]\u001B[49m\u001B[43m,\u001B[49m\n\u001B[32m    575\u001B[39m \u001B[43m        \u001B[49m\u001B[43mbottom\u001B[49m\u001B[43m,\u001B[49m\n\u001B[32m    576\u001B[39m \u001B[43m        \u001B[49m\u001B[43malign\u001B[49m\u001B[43m=\u001B[49m\u001B[33;43m\"\u001B[39;49m\u001B[33;43medge\u001B[39;49m\u001B[33;43m\"\u001B[39;49m\u001B[43m,\u001B[49m\n\u001B[32m    577\u001B[39m \u001B[43m        \u001B[49m\u001B[43m*\u001B[49m\u001B[43m*\u001B[49m\u001B[43martist_kws\u001B[49m\u001B[43m,\u001B[49m\n\u001B[32m    578\u001B[39m \u001B[43m    \u001B[49m\u001B[43m)\u001B[49m\n\u001B[32m    580\u001B[39m     \u001B[38;5;28;01mfor\u001B[39;00m bar \u001B[38;5;129;01min\u001B[39;00m artists:\n\u001B[32m    581\u001B[39m         \u001B[38;5;28;01mif\u001B[39;00m \u001B[38;5;28mself\u001B[39m.data_variable == \u001B[33m\"\u001B[39m\u001B[33mx\u001B[39m\u001B[33m\"\u001B[39m:\n",
      "\u001B[36mFile \u001B[39m\u001B[32m~\\PyCharmMiscProject\\.venv\\Lib\\site-packages\\matplotlib\\__init__.py:1521\u001B[39m, in \u001B[36m_preprocess_data.<locals>.inner\u001B[39m\u001B[34m(ax, data, *args, **kwargs)\u001B[39m\n\u001B[32m   1518\u001B[39m \u001B[38;5;129m@functools\u001B[39m.wraps(func)\n\u001B[32m   1519\u001B[39m \u001B[38;5;28;01mdef\u001B[39;00m\u001B[38;5;250m \u001B[39m\u001B[34minner\u001B[39m(ax, *args, data=\u001B[38;5;28;01mNone\u001B[39;00m, **kwargs):\n\u001B[32m   1520\u001B[39m     \u001B[38;5;28;01mif\u001B[39;00m data \u001B[38;5;129;01mis\u001B[39;00m \u001B[38;5;28;01mNone\u001B[39;00m:\n\u001B[32m-> \u001B[39m\u001B[32m1521\u001B[39m         \u001B[38;5;28;01mreturn\u001B[39;00m \u001B[43mfunc\u001B[49m\u001B[43m(\u001B[49m\n\u001B[32m   1522\u001B[39m \u001B[43m            \u001B[49m\u001B[43max\u001B[49m\u001B[43m,\u001B[49m\n\u001B[32m   1523\u001B[39m \u001B[43m            \u001B[49m\u001B[43m*\u001B[49m\u001B[38;5;28;43mmap\u001B[39;49m\u001B[43m(\u001B[49m\u001B[43mcbook\u001B[49m\u001B[43m.\u001B[49m\u001B[43msanitize_sequence\u001B[49m\u001B[43m,\u001B[49m\u001B[43m \u001B[49m\u001B[43margs\u001B[49m\u001B[43m)\u001B[49m\u001B[43m,\u001B[49m\n\u001B[32m   1524\u001B[39m \u001B[43m            \u001B[49m\u001B[43m*\u001B[49m\u001B[43m*\u001B[49m\u001B[43m{\u001B[49m\u001B[43mk\u001B[49m\u001B[43m:\u001B[49m\u001B[43m \u001B[49m\u001B[43mcbook\u001B[49m\u001B[43m.\u001B[49m\u001B[43msanitize_sequence\u001B[49m\u001B[43m(\u001B[49m\u001B[43mv\u001B[49m\u001B[43m)\u001B[49m\u001B[43m \u001B[49m\u001B[38;5;28;43;01mfor\u001B[39;49;00m\u001B[43m \u001B[49m\u001B[43mk\u001B[49m\u001B[43m,\u001B[49m\u001B[43m \u001B[49m\u001B[43mv\u001B[49m\u001B[43m \u001B[49m\u001B[38;5;129;43;01min\u001B[39;49;00m\u001B[43m \u001B[49m\u001B[43mkwargs\u001B[49m\u001B[43m.\u001B[49m\u001B[43mitems\u001B[49m\u001B[43m(\u001B[49m\u001B[43m)\u001B[49m\u001B[43m}\u001B[49m\u001B[43m)\u001B[49m\n\u001B[32m   1526\u001B[39m     bound = new_sig.bind(ax, *args, **kwargs)\n\u001B[32m   1527\u001B[39m     auto_label = (bound.arguments.get(label_namer)\n\u001B[32m   1528\u001B[39m                   \u001B[38;5;129;01mor\u001B[39;00m bound.kwargs.get(label_namer))\n",
      "\u001B[36mFile \u001B[39m\u001B[32m~\\PyCharmMiscProject\\.venv\\Lib\\site-packages\\matplotlib\\axes\\_axes.py:2660\u001B[39m, in \u001B[36mAxes.bar\u001B[39m\u001B[34m(self, x, height, width, bottom, align, **kwargs)\u001B[39m\n\u001B[32m   2658\u001B[39m     \u001B[38;5;28;01melse\u001B[39;00m:  \u001B[38;5;66;03m# horizontal\u001B[39;00m\n\u001B[32m   2659\u001B[39m         r.sticky_edges.x.append(l)\n\u001B[32m-> \u001B[39m\u001B[32m2660\u001B[39m     \u001B[38;5;28;43mself\u001B[39;49m\u001B[43m.\u001B[49m\u001B[43madd_patch\u001B[49m\u001B[43m(\u001B[49m\u001B[43mr\u001B[49m\u001B[43m)\u001B[49m\n\u001B[32m   2661\u001B[39m     patches.append(r)\n\u001B[32m   2663\u001B[39m \u001B[38;5;28;01mif\u001B[39;00m xerr \u001B[38;5;129;01mis\u001B[39;00m \u001B[38;5;129;01mnot\u001B[39;00m \u001B[38;5;28;01mNone\u001B[39;00m \u001B[38;5;129;01mor\u001B[39;00m yerr \u001B[38;5;129;01mis\u001B[39;00m \u001B[38;5;129;01mnot\u001B[39;00m \u001B[38;5;28;01mNone\u001B[39;00m:\n",
      "\u001B[36mFile \u001B[39m\u001B[32m~\\PyCharmMiscProject\\.venv\\Lib\\site-packages\\matplotlib\\axes\\_base.py:2476\u001B[39m, in \u001B[36m_AxesBase.add_patch\u001B[39m\u001B[34m(self, p)\u001B[39m\n\u001B[32m   2474\u001B[39m \u001B[38;5;28;01mif\u001B[39;00m p.get_clip_path() \u001B[38;5;129;01mis\u001B[39;00m \u001B[38;5;28;01mNone\u001B[39;00m:\n\u001B[32m   2475\u001B[39m     p.set_clip_path(\u001B[38;5;28mself\u001B[39m.patch)\n\u001B[32m-> \u001B[39m\u001B[32m2476\u001B[39m \u001B[38;5;28;43mself\u001B[39;49m\u001B[43m.\u001B[49m\u001B[43m_update_patch_limits\u001B[49m\u001B[43m(\u001B[49m\u001B[43mp\u001B[49m\u001B[43m)\u001B[49m\n\u001B[32m   2477\u001B[39m \u001B[38;5;28mself\u001B[39m._children.append(p)\n\u001B[32m   2478\u001B[39m p._remove_method = \u001B[38;5;28mself\u001B[39m._children.remove\n",
      "\u001B[36mFile \u001B[39m\u001B[32m~\\PyCharmMiscProject\\.venv\\Lib\\site-packages\\matplotlib\\axes\\_base.py:2518\u001B[39m, in \u001B[36m_AxesBase._update_patch_limits\u001B[39m\u001B[34m(self, patch)\u001B[39m\n\u001B[32m   2516\u001B[39m         updatey = \u001B[38;5;28;01mFalse\u001B[39;00m\n\u001B[32m   2517\u001B[39m trf_to_data = patch_trf - \u001B[38;5;28mself\u001B[39m.transData\n\u001B[32m-> \u001B[39m\u001B[32m2518\u001B[39m xys = \u001B[43mtrf_to_data\u001B[49m\u001B[43m.\u001B[49m\u001B[43mtransform\u001B[49m\u001B[43m(\u001B[49m\u001B[43mvertices\u001B[49m\u001B[43m)\u001B[49m\n\u001B[32m   2519\u001B[39m \u001B[38;5;28mself\u001B[39m.update_datalim(xys, updatex=updatex, updatey=updatey)\n",
      "\u001B[36mFile \u001B[39m\u001B[32m~\\PyCharmMiscProject\\.venv\\Lib\\site-packages\\matplotlib\\transforms.py:1495\u001B[39m, in \u001B[36mTransform.transform\u001B[39m\u001B[34m(self, values)\u001B[39m\n\u001B[32m   1492\u001B[39m values = values.reshape((-\u001B[32m1\u001B[39m, \u001B[38;5;28mself\u001B[39m.input_dims))\n\u001B[32m   1494\u001B[39m \u001B[38;5;66;03m# Transform the values\u001B[39;00m\n\u001B[32m-> \u001B[39m\u001B[32m1495\u001B[39m res = \u001B[38;5;28;43mself\u001B[39;49m\u001B[43m.\u001B[49m\u001B[43mtransform_affine\u001B[49m\u001B[43m(\u001B[49m\u001B[38;5;28;43mself\u001B[39;49m\u001B[43m.\u001B[49m\u001B[43mtransform_non_affine\u001B[49m\u001B[43m(\u001B[49m\u001B[43mvalues\u001B[49m\u001B[43m)\u001B[49m\u001B[43m)\u001B[49m\n\u001B[32m   1497\u001B[39m \u001B[38;5;66;03m# Convert the result back to the shape of the input values.\u001B[39;00m\n\u001B[32m   1498\u001B[39m \u001B[38;5;28;01mif\u001B[39;00m ndim == \u001B[32m0\u001B[39m:\n",
      "\u001B[36mFile \u001B[39m\u001B[32m~\\PyCharmMiscProject\\.venv\\Lib\\site-packages\\matplotlib\\transforms.py:2410\u001B[39m, in \u001B[36mCompositeGenericTransform.transform_affine\u001B[39m\u001B[34m(self, values)\u001B[39m\n\u001B[32m   2408\u001B[39m \u001B[38;5;28;01mdef\u001B[39;00m\u001B[38;5;250m \u001B[39m\u001B[34mtransform_affine\u001B[39m(\u001B[38;5;28mself\u001B[39m, values):\n\u001B[32m   2409\u001B[39m     \u001B[38;5;66;03m# docstring inherited\u001B[39;00m\n\u001B[32m-> \u001B[39m\u001B[32m2410\u001B[39m     \u001B[38;5;28;01mreturn\u001B[39;00m \u001B[38;5;28;43mself\u001B[39;49m\u001B[43m.\u001B[49m\u001B[43mget_affine\u001B[49m\u001B[43m(\u001B[49m\u001B[43m)\u001B[49m.transform(values)\n",
      "\u001B[36mFile \u001B[39m\u001B[32m~\\PyCharmMiscProject\\.venv\\Lib\\site-packages\\matplotlib\\transforms.py:2436\u001B[39m, in \u001B[36mCompositeGenericTransform.get_affine\u001B[39m\u001B[34m(self)\u001B[39m\n\u001B[32m   2434\u001B[39m     \u001B[38;5;28;01mreturn\u001B[39;00m \u001B[38;5;28mself\u001B[39m._b.get_affine()\n\u001B[32m   2435\u001B[39m \u001B[38;5;28;01melse\u001B[39;00m:\n\u001B[32m-> \u001B[39m\u001B[32m2436\u001B[39m     \u001B[38;5;28;01mreturn\u001B[39;00m Affine2D(\u001B[43mnp\u001B[49m\u001B[43m.\u001B[49m\u001B[43mdot\u001B[49m\u001B[43m(\u001B[49m\u001B[38;5;28;43mself\u001B[39;49m\u001B[43m.\u001B[49m\u001B[43m_b\u001B[49m\u001B[43m.\u001B[49m\u001B[43mget_affine\u001B[49m\u001B[43m(\u001B[49m\u001B[43m)\u001B[49m\u001B[43m.\u001B[49m\u001B[43mget_matrix\u001B[49m\u001B[43m(\u001B[49m\u001B[43m)\u001B[49m\u001B[43m,\u001B[49m\n\u001B[32m   2437\u001B[39m \u001B[43m                           \u001B[49m\u001B[38;5;28;43mself\u001B[39;49m\u001B[43m.\u001B[49m\u001B[43m_a\u001B[49m\u001B[43m.\u001B[49m\u001B[43mget_affine\u001B[49m\u001B[43m(\u001B[49m\u001B[43m)\u001B[49m\u001B[43m.\u001B[49m\u001B[43mget_matrix\u001B[49m\u001B[43m(\u001B[49m\u001B[43m)\u001B[49m\u001B[43m)\u001B[49m)\n",
      "\u001B[31mKeyboardInterrupt\u001B[39m: "
     ]
    }
   ],
   "execution_count": null
  },
  {
   "metadata": {},
   "cell_type": "markdown",
   "source": [
    "Para variáveis categóricas, visualize contagens:\n",
    "\n"
   ],
   "id": "ae05d2ec237ec34b"
  },
  {
   "metadata": {},
   "cell_type": "code",
   "outputs": [],
   "execution_count": null,
   "source": [
    "sns.countplot(x=data['nome_variavel_categorica'])\n",
    "plt.title('Contagem por Categoria')\n",
    "plt.show()\n"
   ],
   "id": "67dcf59e651d8aaa"
  },
  {
   "metadata": {},
   "cell_type": "markdown",
   "source": "### 3. Tratamento de Dados Faltantes\n",
   "id": "2f64496ab5f7ce6b"
  },
  {
   "metadata": {},
   "cell_type": "markdown",
   "source": "#### Passo 5: Identificar Valores Ausentes\n",
   "id": "ec1afd0814c928b5"
  },
  {
   "metadata": {},
   "cell_type": "code",
   "outputs": [],
   "execution_count": null,
   "source": "print(data.isnull().sum())\n",
   "id": "42f9aa1f0098b77f"
  },
  {
   "metadata": {},
   "cell_type": "markdown",
   "source": "#### Passo 6: Estratégias de Tratamento\n",
   "id": "8e88663723cd663a"
  },
  {
   "metadata": {},
   "cell_type": "markdown",
   "source": [
    "Preenchimento com média ou mediana (para variáveis numéricas):\n",
    "\n"
   ],
   "id": "7e61f4fe8bdc7eca"
  },
  {
   "metadata": {},
   "cell_type": "code",
   "outputs": [],
   "execution_count": null,
   "source": "data['nome_variavel'] = data['nome_variavel'].fillna(data['nome_variavel'].mean())\n",
   "id": "8c80986a3a503a46"
  },
  {
   "metadata": {},
   "cell_type": "markdown",
   "source": [
    "Remover colunas ou linhas com muitos valores nulos:\n",
    "\n"
   ],
   "id": "b2a41905465002f4"
  },
  {
   "metadata": {},
   "cell_type": "code",
   "outputs": [],
   "execution_count": null,
   "source": "data = data.dropna(axis=1)  # Remove colunas com valores nulos\n",
   "id": "76eefa6531967252"
  },
  {
   "metadata": {},
   "cell_type": "markdown",
   "source": "### 4. Detecção e Tratamento de Outliers\n",
   "id": "b44eaeb30be0b78a"
  },
  {
   "metadata": {},
   "cell_type": "markdown",
   "source": [
    "#### Passo 7: Aplicar o Método IQR\n",
    "Utilize o Interquartile Range (IQR) para detectar outliers:\n",
    "\n"
   ],
   "id": "528d5f8abc1d3ca5"
  },
  {
   "metadata": {},
   "cell_type": "code",
   "outputs": [],
   "execution_count": null,
   "source": [
    "Q1 = data['nome_variavel'].quantile(0.25)\n",
    "Q3 = data['nome_variavel'].quantile(0.75)\n",
    "IQR = Q3 - Q1\n",
    "\n",
    "# Definir limites para outliers\n",
    "lower_bound = Q1 - 1.5 * IQR\n",
    "upper_bound = Q3 + 1.5 * IQR\n",
    "\n",
    "# Filtrar valores dentro dos limites\n",
    "data_filtered = data[(data['nome_variavel'] >= lower_bound) & (data['nome_variavel'] <= upper_bound)]\n"
   ],
   "id": "214fc233d423fef7"
  },
  {
   "metadata": {},
   "cell_type": "markdown",
   "source": "### 5. Correlações Entre Variáveis\n",
   "id": "606e9959e3142372"
  },
  {
   "metadata": {},
   "cell_type": "markdown",
   "source": [
    "#### Passo 8: Calcular Matriz de Correlação\n",
    "Identifique relações entre variáveis numéricas:"
   ],
   "id": "c56aa9c0283af0b3"
  },
  {
   "metadata": {},
   "cell_type": "code",
   "outputs": [],
   "execution_count": null,
   "source": [
    "correlation_matrix = data.corr()\n",
    "\n",
    "# Visualizar a matriz de correlação como um heatmap\n",
    "sns.heatmap(correlation_matrix, annot=True, cmap='coolwarm')\n",
    "plt.title('Matriz de Correlação')\n",
    "plt.show()\n"
   ],
   "id": "9c5982ff61b9a5e3"
  },
  {
   "metadata": {},
   "cell_type": "markdown",
   "source": [
    "Remova variáveis redundantes ou com alta multicolinearidade.\n",
    "\n"
   ],
   "id": "bac988100a314fe2"
  }
 ],
 "metadata": {
  "kernelspec": {
   "display_name": "Python 3",
   "language": "python",
   "name": "python3"
  },
  "language_info": {
   "codemirror_mode": {
    "name": "ipython",
    "version": 2
   },
   "file_extension": ".py",
   "mimetype": "text/x-python",
   "name": "python",
   "nbconvert_exporter": "python",
   "pygments_lexer": "ipython2",
   "version": "2.7.6"
  }
 },
 "nbformat": 4,
 "nbformat_minor": 5
}
